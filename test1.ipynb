{
 "cells": [
  {
   "cell_type": "code",
   "execution_count": 1,
   "id": "68f53af7",
   "metadata": {},
   "outputs": [
    {
     "name": "stderr",
     "output_type": "stream",
     "text": [
      "c:\\Users\\ahmed\\anaconda3\\envs\\education\\Lib\\site-packages\\tqdm\\auto.py:21: TqdmWarning: IProgress not found. Please update jupyter and ipywidgets. See https://ipywidgets.readthedocs.io/en/stable/user_install.html\n",
      "  from .autonotebook import tqdm as notebook_tqdm\n"
     ]
    }
   ],
   "source": [
    "from chromadb import EmbeddingFunction\n",
    "from google.generativeai import embed_content\n"
   ]
  },
  {
   "cell_type": "code",
   "execution_count": 2,
   "id": "f860e24d",
   "metadata": {},
   "outputs": [],
   "source": [
    "import chromadb\n",
    "\n",
    "client = chromadb.Client()\n"
   ]
  },
  {
   "cell_type": "code",
   "execution_count": 5,
   "id": "0859090b",
   "metadata": {},
   "outputs": [
    {
     "name": "stdout",
     "output_type": "stream",
     "text": [
      "Collection does not exist.\n"
     ]
    }
   ],
   "source": [
    "collection_name = \"white_papers_db\"\n",
    "\n",
    "# List all existing collections\n",
    "existing_collections = [col.name for col in client.list_collections()]\n",
    "\n",
    "# Check if it exists before calling get_collection\n",
    "if collection_name in existing_collections:\n",
    "    collection = client.get_collection(name=collection_name)\n",
    "    print(\"Collection connected:\", collection.name)\n",
    "else:\n",
    "    print(\"Collection does not exist.\")"
   ]
  }
 ],
 "metadata": {
  "kernelspec": {
   "display_name": "education",
   "language": "python",
   "name": "python3"
  },
  "language_info": {
   "codemirror_mode": {
    "name": "ipython",
    "version": 3
   },
   "file_extension": ".py",
   "mimetype": "text/x-python",
   "name": "python",
   "nbconvert_exporter": "python",
   "pygments_lexer": "ipython3",
   "version": "3.13.2"
  }
 },
 "nbformat": 4,
 "nbformat_minor": 5
}
